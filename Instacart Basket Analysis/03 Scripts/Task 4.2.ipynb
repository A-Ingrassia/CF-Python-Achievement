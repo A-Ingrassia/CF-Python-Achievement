{
 "cells": [
  {
   "cell_type": "markdown",
   "id": "59a37b4b",
   "metadata": {},
   "source": [
    "# Importing Libraries"
   ]
  },
  {
   "cell_type": "code",
   "execution_count": 1,
   "id": "e4de5faa",
   "metadata": {},
   "outputs": [],
   "source": [
    "# Import Libraries\n",
    "\n",
    "import numpy as np\n",
    "import pandas as pd\n",
    "import os"
   ]
  },
  {
   "cell_type": "markdown",
   "id": "54d665e7",
   "metadata": {},
   "source": [
    "# Working with Python Data Types"
   ]
  },
  {
   "cell_type": "markdown",
   "id": "0384f3e2",
   "metadata": {},
   "source": [
    "### A) Code 3 different ways of reaching a result of 100 by adding or subtracting numeric variables."
   ]
  },
  {
   "cell_type": "code",
   "execution_count": 4,
   "id": "47f057c1",
   "metadata": {},
   "outputs": [],
   "source": [
    "x = 10\n",
    "y = 25\n",
    "z = 50"
   ]
  },
  {
   "cell_type": "code",
   "execution_count": 7,
   "id": "278e734e",
   "metadata": {},
   "outputs": [
    {
     "data": {
      "text/plain": [
       "100"
      ]
     },
     "execution_count": 7,
     "metadata": {},
     "output_type": "execute_result"
    }
   ],
   "source": [
    "z + (y*2)"
   ]
  },
  {
   "cell_type": "code",
   "execution_count": 8,
   "id": "45761200",
   "metadata": {},
   "outputs": [
    {
     "data": {
      "text/plain": [
       "100"
      ]
     },
     "execution_count": 8,
     "metadata": {},
     "output_type": "execute_result"
    }
   ],
   "source": [
    "z + (5*x)"
   ]
  },
  {
   "cell_type": "code",
   "execution_count": 9,
   "id": "f62376bb",
   "metadata": {},
   "outputs": [
    {
     "data": {
      "text/plain": [
       "100"
      ]
     },
     "execution_count": 9,
     "metadata": {},
     "output_type": "execute_result"
    }
   ],
   "source": [
    "150 - z"
   ]
  },
  {
   "cell_type": "markdown",
   "id": "5bece51a",
   "metadata": {},
   "source": [
    "### B) Code 2 floating-point variables and divide them by each other."
   ]
  },
  {
   "cell_type": "code",
   "execution_count": 10,
   "id": "58e90185",
   "metadata": {},
   "outputs": [],
   "source": [
    "a = 10.375\n",
    "b = 4.25"
   ]
  },
  {
   "cell_type": "code",
   "execution_count": 11,
   "id": "c1a15b39",
   "metadata": {},
   "outputs": [
    {
     "data": {
      "text/plain": [
       "2.4411764705882355"
      ]
     },
     "execution_count": 11,
     "metadata": {},
     "output_type": "execute_result"
    }
   ],
   "source": [
    "a/b"
   ]
  },
  {
   "cell_type": "markdown",
   "id": "54e79507",
   "metadata": {},
   "source": [
    "### C) Construct a short word made of separate strings."
   ]
  },
  {
   "cell_type": "code",
   "execution_count": 12,
   "id": "3de07053",
   "metadata": {},
   "outputs": [],
   "source": [
    "c = 'pan'\n",
    "d = 'cakes'"
   ]
  },
  {
   "cell_type": "code",
   "execution_count": 13,
   "id": "0ac67c18",
   "metadata": {},
   "outputs": [
    {
     "data": {
      "text/plain": [
       "'pancakes'"
      ]
     },
     "execution_count": 13,
     "metadata": {},
     "output_type": "execute_result"
    }
   ],
   "source": [
    "c + d"
   ]
  },
  {
   "cell_type": "markdown",
   "id": "ff3c7484",
   "metadata": {},
   "source": [
    "### D) Construct 2 short sentences made of separate strings."
   ]
  },
  {
   "cell_type": "code",
   "execution_count": 20,
   "id": "ad39e563",
   "metadata": {},
   "outputs": [],
   "source": [
    "e = 'The only thing we have to fear '\n",
    "f = 'is fear itself.'\n",
    "g = 'The proximity of a desirable thing '\n",
    "h = 'tempts one to overindulgence.'"
   ]
  },
  {
   "cell_type": "code",
   "execution_count": 21,
   "id": "b6225bcd",
   "metadata": {},
   "outputs": [
    {
     "data": {
      "text/plain": [
       "'The only thing we have to fear is fear itself.'"
      ]
     },
     "execution_count": 21,
     "metadata": {},
     "output_type": "execute_result"
    }
   ],
   "source": [
    "e + f"
   ]
  },
  {
   "cell_type": "code",
   "execution_count": 22,
   "id": "5eec4157",
   "metadata": {},
   "outputs": [
    {
     "data": {
      "text/plain": [
       "'The proximity of a desirable thing tempts one to overindulgence.'"
      ]
     },
     "execution_count": 22,
     "metadata": {},
     "output_type": "execute_result"
    }
   ],
   "source": [
    "g + h"
   ]
  }
 ],
 "metadata": {
  "kernelspec": {
   "display_name": "Python 3 (ipykernel)",
   "language": "python",
   "name": "python3"
  },
  "language_info": {
   "codemirror_mode": {
    "name": "ipython",
    "version": 3
   },
   "file_extension": ".py",
   "mimetype": "text/x-python",
   "name": "python",
   "nbconvert_exporter": "python",
   "pygments_lexer": "ipython3",
   "version": "3.10.9"
  }
 },
 "nbformat": 4,
 "nbformat_minor": 5
}
